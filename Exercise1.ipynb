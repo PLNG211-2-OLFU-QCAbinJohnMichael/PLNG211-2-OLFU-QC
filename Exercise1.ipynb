{
  "nbformat": 4,
  "nbformat_minor": 0,
  "metadata": {
    "colab": {
      "provenance": [],
      "authorship_tag": "ABX9TyP2onowGbUNip5/JewPSDr1",
      "include_colab_link": true
    },
    "kernelspec": {
      "name": "python3",
      "display_name": "Python 3"
    },
    "language_info": {
      "name": "python"
    }
  },
  "cells": [
    {
      "cell_type": "markdown",
      "metadata": {
        "id": "view-in-github",
        "colab_type": "text"
      },
      "source": [
        "<a href=\"https://colab.research.google.com/github/PLNG211-2-OLFU-QCAbinJohnMichael/PLNG211-2-OLFU-QC/blob/main/Exercise1.ipynb\" target=\"_parent\"><img src=\"https://colab.research.google.com/assets/colab-badge.svg\" alt=\"Open In Colab\"/></a>"
      ]
    },
    {
      "cell_type": "code",
      "execution_count": 19,
      "metadata": {
        "colab": {
          "base_uri": "https://localhost:8080/"
        },
        "id": "a9dIJ0blZDAg",
        "outputId": "bf578ba7-f905-47ba-c238-2a751761967e"
      },
      "outputs": [
        {
          "output_type": "stream",
          "name": "stdout",
          "text": [
            "211\n"
          ]
        }
      ],
      "source": [
        "def sum_odd(number):\n",
        "    ans = 0\n",
        "    for x in number:\n",
        "        if x % 2 == 1:\n",
        "              ans += x\n",
        "    return ans\n",
        "number = [26,49,98,87,62,75]\n",
        "print(sum_odd(number))"
      ]
    },
    {
      "cell_type": "code",
      "source": [
        "number = [26,49,98,87,62,75]\n",
        "ans = 0\n",
        "for x in number:\n",
        "  if x%2 ==1:\n",
        "    ans += x\n",
        "    print(ans)"
      ],
      "metadata": {
        "colab": {
          "base_uri": "https://localhost:8080/"
        },
        "id": "OZKoSDYIgBB1",
        "outputId": "cb40ea63-de1b-4302-afb1-a17c405aa43d"
      },
      "execution_count": 26,
      "outputs": [
        {
          "output_type": "stream",
          "name": "stdout",
          "text": [
            "49\n",
            "136\n",
            "211\n"
          ]
        }
      ]
    }
  ]
}