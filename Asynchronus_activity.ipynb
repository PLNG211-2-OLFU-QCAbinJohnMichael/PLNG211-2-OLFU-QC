{
  "nbformat": 4,
  "nbformat_minor": 0,
  "metadata": {
    "colab": {
      "provenance": [],
      "authorship_tag": "ABX9TyNvYsXxucnFQmAmpAXyXTP1",
      "include_colab_link": true
    },
    "kernelspec": {
      "name": "python3",
      "display_name": "Python 3"
    },
    "language_info": {
      "name": "python"
    }
  },
  "cells": [
    {
      "cell_type": "markdown",
      "metadata": {
        "id": "view-in-github",
        "colab_type": "text"
      },
      "source": [
        "<a href=\"https://colab.research.google.com/github/PLNG211-2-OLFU-QCAbinJohnMichael/PLNG211-2-OLFU-QC/blob/main/Asynchronus_activity.ipynb\" target=\"_parent\"><img src=\"https://colab.research.google.com/assets/colab-badge.svg\" alt=\"Open In Colab\"/></a>"
      ]
    },
    {
      "cell_type": "code",
      "execution_count": 37,
      "metadata": {
        "colab": {
          "base_uri": "https://localhost:8080/"
        },
        "id": "hTQ3sNbLQeP4",
        "outputId": "e4ffca8f-6316-45e1-c42f-caf45c4d1508"
      },
      "outputs": [
        {
          "output_type": "stream",
          "name": "stdout",
          "text": [
            "9000\n",
            "2700.0\n",
            "6300.0\n",
            "Salary is 9000\n",
            "Tax is 2700.0\n",
            "Net Income is 6300.0\n"
          ]
        }
      ],
      "source": [
        "a= 600\n",
        "a *=15\n",
        "b = (0.30*a)\n",
        "c= (a-b)\n",
        "print (a)\n",
        "print(b)\n",
        "print(c)\n",
        "print(\"Salary is\", a)\n",
        "print(\"Tax is\", b)\n",
        "print(\"Net Income is\", c)"
      ]
    }
  ]
}