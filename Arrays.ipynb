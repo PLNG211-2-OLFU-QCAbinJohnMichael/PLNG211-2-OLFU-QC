{
  "nbformat": 4,
  "nbformat_minor": 0,
  "metadata": {
    "colab": {
      "provenance": [],
      "authorship_tag": "ABX9TyMfHbGRwwY+YVJ3ByhVWZAh",
      "include_colab_link": true
    },
    "kernelspec": {
      "name": "python3",
      "display_name": "Python 3"
    },
    "language_info": {
      "name": "python"
    }
  },
  "cells": [
    {
      "cell_type": "markdown",
      "metadata": {
        "id": "view-in-github",
        "colab_type": "text"
      },
      "source": [
        "<a href=\"https://colab.research.google.com/github/PLNG211-2-OLFU-QCAbinJohnMichael/PLNG211-2-OLFU-QC/blob/main/Arrays.ipynb\" target=\"_parent\"><img src=\"https://colab.research.google.com/assets/colab-badge.svg\" alt=\"Open In Colab\"/></a>"
      ]
    },
    {
      "cell_type": "code",
      "execution_count": 10,
      "metadata": {
        "colab": {
          "base_uri": "https://localhost:8080/"
        },
        "id": "eGW6iyQ_Ok4w",
        "outputId": "479eed92-6132-4255-ed46-f229f8cbe7fe"
      },
      "outputs": [
        {
          "output_type": "stream",
          "name": "stdout",
          "text": [
            "['cat', 'dog', 'fish']1\n",
            "The list of animals in an array are: ['cat', 'dog', 'fish']\n",
            "The animal in animals [0] is: 1\n",
            "cat\n",
            "dog\n",
            "fish\n"
          ]
        }
      ],
      "source": [
        "#Accessing the elements in the Array\n",
        "animals = [\"cat\",\"dog\",\"fish\"]\n",
        "x = animals[0]\n",
        "print(\"The list of animals in an array are:\", animals)\n",
        "print(\"The animal in animals [0] is:\", x)\n",
        "for y in animals:\n",
        "  print(y)\n",
        "  "
      ]
    },
    {
      "cell_type": "code",
      "source": [
        "#Modifying Elements in the Array\n",
        "animals = [\"cat\",\"dog\",\"fish\"]\n",
        "animals [1] = \"monkey\"\n",
        "print(animals)"
      ],
      "metadata": {
        "colab": {
          "base_uri": "https://localhost:8080/"
        },
        "id": "wHFufphkTIt4",
        "outputId": "5a97775f-3d1a-4dbc-cf01-cb0be348a008"
      },
      "execution_count": 11,
      "outputs": [
        {
          "output_type": "stream",
          "name": "stdout",
          "text": [
            "['cat', 'monkey', 'fish']\n"
          ]
        }
      ]
    },
    {
      "cell_type": "code",
      "source": [
        "#Length  of the Array\n",
        "animals = [\"cat\",\"dog\",\"fish\"]\n",
        "x = len(animals)\n",
        "print(x)"
      ],
      "metadata": {
        "colab": {
          "base_uri": "https://localhost:8080/"
        },
        "id": "wZyf-ngyTa8E",
        "outputId": "520d3d13-c94b-4f93-b73f-dbc9a081ddf7"
      },
      "execution_count": 12,
      "outputs": [
        {
          "output_type": "stream",
          "name": "stdout",
          "text": [
            "3\n"
          ]
        }
      ]
    },
    {
      "cell_type": "code",
      "source": [
        "#Looping Array Elements\n",
        "verbs = [\"Jumping\", \"Eating\",\"Swimming\"]\n",
        "animals = [\"cat\",\"dog\",\"fish\"]\n",
        "for k  in verbs:\n",
        " for j in animals:\n",
        "   print(k,j)"
      ],
      "metadata": {
        "colab": {
          "base_uri": "https://localhost:8080/"
        },
        "id": "kMjdz2ZoTl9v",
        "outputId": "2c8e8069-cb0f-49be-8ecb-2f0417fef14d"
      },
      "execution_count": 15,
      "outputs": [
        {
          "output_type": "stream",
          "name": "stdout",
          "text": [
            "Jumping cat\n",
            "Jumping dog\n",
            "Jumping fish\n",
            "Eating cat\n",
            "Eating dog\n",
            "Eating fish\n",
            "Swimming cat\n",
            "Swimming dog\n",
            "Swimming fish\n"
          ]
        }
      ]
    },
    {
      "cell_type": "code",
      "source": [
        "#Append the element in the Array\n",
        "animals = [\"cat\",\"dog\",\"fish\"]\n",
        "animals.append(\"monkey\")\n",
        "print(animals)"
      ],
      "metadata": {
        "colab": {
          "base_uri": "https://localhost:8080/"
        },
        "id": "7UqFEbIhVi-H",
        "outputId": "71ddd92b-63b2-427f-8664-5246273ddc78"
      },
      "execution_count": 17,
      "outputs": [
        {
          "output_type": "stream",
          "name": "stdout",
          "text": [
            "['cat', 'dog', 'fish', 'monkey']\n"
          ]
        }
      ]
    },
    {
      "cell_type": "code",
      "source": [
        "#Insert the element in the Array\n",
        "animals = [\"cat\",\"dog\",\"fish\"]\n",
        "animals.insert(0, \"bird\")\n",
        "print(animals)"
      ],
      "metadata": {
        "colab": {
          "base_uri": "https://localhost:8080/"
        },
        "id": "FZAQrZv3VsLm",
        "outputId": "156dfb94-89ad-455a-943a-f862118a588c"
      },
      "execution_count": 19,
      "outputs": [
        {
          "output_type": "stream",
          "name": "stdout",
          "text": [
            "['bird', 'cat', 'dog', 'fish']\n"
          ]
        }
      ]
    },
    {
      "cell_type": "code",
      "source": [
        "#Remove an element in the Array list\n",
        "animals.pop(1)\n",
        "print(animals)"
      ],
      "metadata": {
        "colab": {
          "base_uri": "https://localhost:8080/"
        },
        "id": "7QNq6855WNYw",
        "outputId": "0c5fa161-783b-4014-aff6-82ce8480bcb8"
      },
      "execution_count": 20,
      "outputs": [
        {
          "output_type": "stream",
          "name": "stdout",
          "text": [
            "['bird', 'dog', 'fish']\n"
          ]
        }
      ]
    },
    {
      "cell_type": "code",
      "source": [
        "#Array module in Python\n"
      ],
      "metadata": {
        "id": "2MpaX2izWhfx"
      },
      "execution_count": null,
      "outputs": []
    }
  ]
}