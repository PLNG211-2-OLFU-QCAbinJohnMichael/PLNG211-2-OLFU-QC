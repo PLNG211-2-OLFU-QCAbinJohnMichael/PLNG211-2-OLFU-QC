{
  "nbformat": 4,
  "nbformat_minor": 0,
  "metadata": {
    "colab": {
      "provenance": [],
      "authorship_tag": "ABX9TyM8FeInNdk3hgAxNNx+E7Cd",
      "include_colab_link": true
    },
    "kernelspec": {
      "name": "python3",
      "display_name": "Python 3"
    },
    "language_info": {
      "name": "python"
    }
  },
  "cells": [
    {
      "cell_type": "markdown",
      "metadata": {
        "id": "view-in-github",
        "colab_type": "text"
      },
      "source": [
        "<a href=\"https://colab.research.google.com/github/PLNG211-2-OLFU-QCAbinJohnMichael/PLNG211-2-OLFU-QC/blob/main/Class_and_object.ipynb\" target=\"_parent\"><img src=\"https://colab.research.google.com/assets/colab-badge.svg\" alt=\"Open In Colab\"/></a>"
      ]
    },
    {
      "cell_type": "code",
      "execution_count": null,
      "metadata": {
        "id": "GJ1inNs-fo13"
      },
      "outputs": [],
      "source": [
        "class Persons:\n",
        "  pass "
      ]
    },
    {
      "cell_type": "code",
      "source": [
        "class Person:\n",
        "  def __init__(self,name,address,age):\n",
        "    self.name = name\n",
        "    self.age = age\n",
        "    self.address = address\n",
        "  def myFunction(self):\n",
        "    print(\"Hello! My name is \",self.name)\n",
        "    print(\"I am \",self.age)\n",
        "    print(\"I live in \", self.address)\n",
        "\n",
        "\n",
        "class Student(Person):\n",
        "  pass\n",
        "class Teacher(Person):\n",
        "  pass\n",
        "p1 = Person(\"Maria\",20,\"QC\")\n",
        "p1.myFunction()\n",
        "\n",
        "p2 = Student(\"Anna\", 26, \"Manila\")\n",
        "p2.myFunction()\n",
        "\n",
        "p3 = Teacher(\"Mam\",30,\"Valenzuela City\")\n",
        "p3.myFunction()"
      ],
      "metadata": {
        "colab": {
          "base_uri": "https://localhost:8080/"
        },
        "id": "0rISclVanfdz",
        "outputId": "da326605-a184-49d2-ead2-1a7528596e3e"
      },
      "execution_count": 24,
      "outputs": [
        {
          "output_type": "stream",
          "name": "stdout",
          "text": [
            "Hello! My name is  Maria\n",
            "I am  QC\n",
            "I live in  20\n",
            "Hello! My name is  Anna\n",
            "I am  Manila\n",
            "I live in  26\n",
            "Hello! My name is  Mam\n",
            "I am  Valenzuela City\n",
            "I live in  30\n"
          ]
        }
      ]
    },
    {
      "cell_type": "code",
      "source": [
        "#Modify an Object Property\n",
        "\n",
        "p1.age =25\n",
        "p1.myFunction()"
      ],
      "metadata": {
        "colab": {
          "base_uri": "https://localhost:8080/"
        },
        "id": "-a3RbuMYqUp-",
        "outputId": "54d7d919-365d-41ba-a1f3-090c460db83b"
      },
      "execution_count": 20,
      "outputs": [
        {
          "output_type": "stream",
          "name": "stdout",
          "text": [
            "Hello! My name is  Maria\n",
            "I am  25\n",
            "I live in  20\n"
          ]
        }
      ]
    },
    {
      "cell_type": "code",
      "source": [
        "#Delete an Object Property\n",
        "print(p2.name)\n",
        "del p2\n",
        "p2.myFunction\n"
      ],
      "metadata": {
        "colab": {
          "base_uri": "https://localhost:8080/",
          "height": 217
        },
        "id": "hsaO7DOvsBwN",
        "outputId": "b15ceb5a-67ca-441b-e581-ac5eb7c73854"
      },
      "execution_count": 28,
      "outputs": [
        {
          "output_type": "stream",
          "name": "stdout",
          "text": [
            "Anna\n"
          ]
        },
        {
          "output_type": "error",
          "ename": "NameError",
          "evalue": "ignored",
          "traceback": [
            "\u001b[0;31m---------------------------------------------------------------------------\u001b[0m",
            "\u001b[0;31mNameError\u001b[0m                                 Traceback (most recent call last)",
            "\u001b[0;32m<ipython-input-28-4ef81e776c18>\u001b[0m in \u001b[0;36m<module>\u001b[0;34m\u001b[0m\n\u001b[1;32m      2\u001b[0m \u001b[0mprint\u001b[0m\u001b[0;34m(\u001b[0m\u001b[0mp2\u001b[0m\u001b[0;34m.\u001b[0m\u001b[0mname\u001b[0m\u001b[0;34m)\u001b[0m\u001b[0;34m\u001b[0m\u001b[0;34m\u001b[0m\u001b[0m\n\u001b[1;32m      3\u001b[0m \u001b[0;32mdel\u001b[0m \u001b[0mp2\u001b[0m\u001b[0;34m\u001b[0m\u001b[0;34m\u001b[0m\u001b[0m\n\u001b[0;32m----> 4\u001b[0;31m \u001b[0mp2\u001b[0m\u001b[0;34m.\u001b[0m\u001b[0mmyFunction\u001b[0m\u001b[0;34m\u001b[0m\u001b[0;34m\u001b[0m\u001b[0m\n\u001b[0m",
            "\u001b[0;31mNameError\u001b[0m: name 'p2' is not defined"
          ]
        }
      ]
    },
    {
      "cell_type": "code",
      "source": [
        "#Application 1 - Write a python program that computes the area and perimeter of a square\n",
        "#Use Square as class name\n",
        "#Use sides as attribute \n",
        "#Create Methods Area() and Perimeter()\n",
        "import math\n",
        "class Square:\n",
        "  def __init__(self,sides):\n",
        "    self.sides = sides\n",
        "  \n",
        "  def Area(Square):\n",
        "    print(\"Area of square is \", sides ** 2)\n",
        "  def Perimeter(Square):\n",
        "    print(\"Perimeter of square is \", 4 * sides)\n",
        "\n",
        "sides = int(input(\"Sides: \"))\n",
        "\n",
        "s1 = Square(sides)\n",
        "s1.Area()\n",
        "\n",
        "s2= Square(sides)\n",
        "s2.Perimeter()\n",
        "\n",
        " \n",
        "\n",
        "\n",
        "\n",
        "\n",
        "\n",
        "\n",
        " \n",
        "\n"
      ],
      "metadata": {
        "colab": {
          "base_uri": "https://localhost:8080/"
        },
        "id": "G4hgbPErsu9Y",
        "outputId": "c4c88c2e-0a79-435e-f5d1-c8f7fdf25681"
      },
      "execution_count": 51,
      "outputs": [
        {
          "output_type": "stream",
          "name": "stdout",
          "text": [
            "Sides: 15\n",
            "Area of square is  225\n",
            "Perimeter of square is  60\n"
          ]
        }
      ]
    }
  ]
}