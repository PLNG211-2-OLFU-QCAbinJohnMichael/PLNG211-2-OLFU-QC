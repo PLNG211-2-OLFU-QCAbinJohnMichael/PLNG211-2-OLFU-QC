{
  "nbformat": 4,
  "nbformat_minor": 0,
  "metadata": {
    "colab": {
      "provenance": [],
      "authorship_tag": "ABX9TyNC1S3bQ1hWTwNIkx3zuN6a",
      "include_colab_link": true
    },
    "kernelspec": {
      "name": "python3",
      "display_name": "Python 3"
    },
    "language_info": {
      "name": "python"
    }
  },
  "cells": [
    {
      "cell_type": "markdown",
      "metadata": {
        "id": "view-in-github",
        "colab_type": "text"
      },
      "source": [
        "<a href=\"https://colab.research.google.com/github/PLNG211-2-OLFU-QCAbinJohnMichael/PLNG211-2-OLFU-QC/blob/main/Python_Function.ipynb\" target=\"_parent\"><img src=\"https://colab.research.google.com/assets/colab-badge.svg\" alt=\"Open In Colab\"/></a>"
      ]
    },
    {
      "cell_type": "code",
      "execution_count": 9,
      "metadata": {
        "colab": {
          "base_uri": "https://localhost:8080/"
        },
        "id": "50s5ZUYPfs4j",
        "outputId": "8f479c1b-5bdf-4583-c397-19aa34673567"
      },
      "outputs": [
        {
          "output_type": "stream",
          "name": "stdout",
          "text": [
            "100\n",
            "Fahrenheit to celsiusL: 37.78\n"
          ]
        }
      ],
      "source": [
        "#creating own function\n",
        "def convert_to_celsius( fahrenheit ):\n",
        "  return (fahrenheit - 32) * 5/9\n",
        "\n",
        "fahrenheit = int(input())\n",
        "print(\"Fahrenheit to celsius:\",round(convert_to_celsius (fahrenheit),2))"
      ]
    },
    {
      "cell_type": "code",
      "source": [
        "#create a function that will display three consecutive my_function values\n",
        "def my_function(fname):\n",
        "  print(fname + \"Sayo\")\n",
        "\n",
        "my_function(\"Maria \")\n",
        "my_function(\"Mam \")"
      ],
      "metadata": {
        "colab": {
          "base_uri": "https://localhost:8080/"
        },
        "id": "P2Y_HAQ-glbu",
        "outputId": "93f76d6d-e2af-4ff2-dbef-4439472c8f30"
      },
      "execution_count": 12,
      "outputs": [
        {
          "output_type": "stream",
          "name": "stdout",
          "text": [
            "Maria Sayo\n",
            "Mam Sayo\n"
          ]
        }
      ]
    },
    {
      "cell_type": "code",
      "source": [
        "#Create an arithmetic function\n",
        "def myfunction(x):\n",
        "  return 5+x\n",
        "\n",
        "print(myfunction(3))\n",
        "print(myfunction(4))\n",
        "print(myfunction(5))"
      ],
      "metadata": {
        "colab": {
          "base_uri": "https://localhost:8080/"
        },
        "id": "G6xW84jkiSpj",
        "outputId": "0d4327d6-fcdb-43d6-eb17-d88bfe40895f"
      },
      "execution_count": 16,
      "outputs": [
        {
          "output_type": "stream",
          "name": "stdout",
          "text": [
            "8\n",
            "9\n",
            "10\n"
          ]
        }
      ]
    },
    {
      "cell_type": "code",
      "source": [
        "#exercise 1\n",
        "print( min(2,3,4))\n",
        "print( max(2,-3,4,7,5))\n",
        "print( max(2,-3,min(4,7),-5))"
      ],
      "metadata": {
        "colab": {
          "base_uri": "https://localhost:8080/"
        },
        "id": "nCZXDDXxjgG1",
        "outputId": "5ee6f0c0-8751-483a-e494-25bce6edd3f6"
      },
      "execution_count": 41,
      "outputs": [
        {
          "output_type": "stream",
          "name": "stdout",
          "text": [
            "2\n",
            "7\n",
            "4\n"
          ]
        }
      ]
    },
    {
      "cell_type": "code",
      "source": [
        "#Exercise 2\n",
        "def avg(x,y,z):\n",
        "  return (x**2+y**2+z**2)/3\n",
        "def sum(x,y,z):\n",
        "  return(x+y+z)\n",
        "x = int(input())\n",
        "y = int(input())\n",
        "z = int(input())\n",
        "\n",
        "print(\"Sum: \",sum (x,y,z))\n",
        "print(\"Avg:\", avg (x,y,z))"
      ],
      "metadata": {
        "colab": {
          "base_uri": "https://localhost:8080/"
        },
        "id": "NAS7ay58mQmN",
        "outputId": "548897ec-f4bf-4b91-f5f8-3083570faa8a"
      },
      "execution_count": 37,
      "outputs": [
        {
          "output_type": "stream",
          "name": "stdout",
          "text": [
            "5\n",
            "3\n",
            "2\n",
            "Sum:  10\n",
            "Avg: 12.666666666666666\n"
          ]
        }
      ]
    },
    {
      "cell_type": "code",
      "source": [
        "#Application\n",
        "#Create a formula of area of different shapes\n",
        "import math\n",
        "def shapes(sh):\n",
        "  if (sh == \"rectangle\"):\n",
        "    return l*w\n",
        "  elif (sh == \"square\"):\n",
        "    s = int(input())\n",
        "    return  s**2\n",
        "  elif (sh == \"circle\"):\n",
        "    return math.pi*(r**2)\n",
        "\n",
        "ch = input(\"Select a shape. rectangle, square, circle: \" )\n",
        "if ch == \"rectangle\":\n",
        "  print(\"Area of Rectangle.\")\n",
        "  l = int(input(\"Enter length: \"))\n",
        "  w = int(input(\"Enter width: \"))\n",
        "  print(\"Area of Rectangle: \",shapes(\"rectangle\"))\n",
        "elif ch == \"square\":\n",
        "  print(\"Area of Square.\")\n",
        "  s = int(input(\"Enter Side: \"))\n",
        "  print(\"Area of Square: \", shapes(\"square\"))\n",
        "elif ch == \"circle\":\n",
        "  print(\"Area of Circle.\")\n",
        "  r = int(input(\"Enter Radius: \"))\n",
        "  print(\"Area of Circle: \" ,shapes(\"circle\"))\n",
        "\n",
        "\n",
        "\n"
      ],
      "metadata": {
        "colab": {
          "base_uri": "https://localhost:8080/"
        },
        "id": "ELoBKYesmQc5",
        "outputId": "d038f02c-8759-4e98-98f5-85848924afc9"
      },
      "execution_count": 57,
      "outputs": [
        {
          "output_type": "stream",
          "name": "stdout",
          "text": [
            "Select a shape. rectangle, square, circle: rectangle\n",
            "Area of Rectangle.\n",
            "Enter length: 15\n",
            "Enter width: 23\n",
            "Area of Rectangle 345\n"
          ]
        }
      ]
    }
  ]
}