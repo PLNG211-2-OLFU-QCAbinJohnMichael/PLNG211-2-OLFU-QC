{
  "nbformat": 4,
  "nbformat_minor": 0,
  "metadata": {
    "colab": {
      "provenance": [],
      "authorship_tag": "ABX9TyOW59RUmGTPt/KkS+1Vb6ml",
      "include_colab_link": true
    },
    "kernelspec": {
      "name": "python3",
      "display_name": "Python 3"
    },
    "language_info": {
      "name": "python"
    }
  },
  "cells": [
    {
      "cell_type": "markdown",
      "metadata": {
        "id": "view-in-github",
        "colab_type": "text"
      },
      "source": [
        "<a href=\"https://colab.research.google.com/github/PLNG211-2-OLFU-QCAbinJohnMichael/PLNG211-2-OLFU-QC/blob/main/Laboratory_Activity_1.ipynb\" target=\"_parent\"><img src=\"https://colab.research.google.com/assets/colab-badge.svg\" alt=\"Open In Colab\"/></a>"
      ]
    },
    {
      "cell_type": "code",
      "execution_count": 19,
      "metadata": {
        "colab": {
          "base_uri": "https://localhost:8080/"
        },
        "id": "d5ckbJBlS9LH",
        "outputId": "276caf90-9db9-4192-cc9c-34819e59cab5"
      },
      "outputs": [
        {
          "output_type": "stream",
          "name": "stdout",
          "text": [
            "1\n",
            "2\n",
            "3\n",
            "4\n",
            "5\n",
            "6\n",
            "7\n",
            "8\n",
            "9\n",
            "10\n",
            "55\n"
          ]
        }
      ],
      "source": [
        "# Write a Python program to create an array of 10 integers and display the\n",
        "# array items. Access individual elements through indexes and \n",
        "# compute for the sum.\n",
        "\n",
        "Number = [1,2,3,4,5,6,7,8,9,10]\n",
        "ans = sum(Number)\n",
        "print(Number[0])\n",
        "print(Number[1])\n",
        "print(Number[2])\n",
        "print(Number[3])\n",
        "print(Number[4])\n",
        "print(Number[5])\n",
        "print(Number[6])\n",
        "print(Number[7])\n",
        "print(Number[8])\n",
        "print(Number[9])\n",
        "print(ans)\n",
        "\n"
      ]
    },
    {
      "cell_type": "code",
      "source": [
        "# Write a Python program to append a new item to the end of the array. \n",
        "# Original array: numbers = [1, 2, 3, 4, 5, 6, 7, 8, 9, 10]\n",
        "array = [1, 2, 3, 4, 5, 6, 7, 8, 9, 10]\n",
        "array.append(11)\n",
        "print(array)"
      ],
      "metadata": {
        "colab": {
          "base_uri": "https://localhost:8080/"
        },
        "id": "9Myj9Vboif-E",
        "outputId": "08dc096f-93df-473d-d3e6-cd16a0616e9a"
      },
      "execution_count": 13,
      "outputs": [
        {
          "output_type": "stream",
          "name": "stdout",
          "text": [
            "[1, 2, 3, 4, 5, 6, 7, 8, 9, 10, 11]\n"
          ]
        }
      ]
    },
    {
      "cell_type": "code",
      "source": [
        "# Write a Python program to insert a new item before the second element \n",
        "# in an existing array.\n",
        "# Original array: numbers = [1, 2, 3, 4, 5, 6, 7, 8, 9, 10]\n",
        "array = [1, 2, 3, 4, 5, 6, 7, 8, 9, 10]\n",
        "array.insert(1, 1.5)\n",
        "print(array)"
      ],
      "metadata": {
        "colab": {
          "base_uri": "https://localhost:8080/"
        },
        "id": "Do6_Lj8ekZu3",
        "outputId": "1194aab7-fd6a-4e14-e8c9-318854d24062"
      },
      "execution_count": 14,
      "outputs": [
        {
          "output_type": "stream",
          "name": "stdout",
          "text": [
            "[1, 1.5, 2, 3, 4, 5, 6, 7, 8, 9, 10]\n"
          ]
        }
      ]
    },
    {
      "cell_type": "code",
      "source": [
        "#Write a Python program to reverse the order of the items in the array. \n",
        "# Original array: numbers = [5, 4, 3, 2, 1]\n",
        "array = [5, 4, 3, 2, 1]\n",
        "array.reverse()\n",
        "print(array)"
      ],
      "metadata": {
        "colab": {
          "base_uri": "https://localhost:8080/"
        },
        "id": "Dw11CzeAkyCK",
        "outputId": "64e0bedb-4b1a-4ff1-f717-789447b3de36"
      },
      "execution_count": 16,
      "outputs": [
        {
          "output_type": "stream",
          "name": "stdout",
          "text": [
            "[1, 2, 3, 4, 5]\n"
          ]
        }
      ]
    },
    {
      "cell_type": "code",
      "source": [
        "#Write a Python program to get the length of the array.\n",
        "#Original array: numbers = [5, 4, 3, 2, 1]\n",
        "array = [5, 4, 3, 2, 1]\n",
        "x = len(array)\n",
        "print(x)"
      ],
      "metadata": {
        "colab": {
          "base_uri": "https://localhost:8080/"
        },
        "id": "0Bf75D8OlALL",
        "outputId": "746b4843-f052-4b70-d575-2a838104a41f"
      },
      "execution_count": 18,
      "outputs": [
        {
          "output_type": "stream",
          "name": "stdout",
          "text": [
            "5\n"
          ]
        }
      ]
    }
  ]
}