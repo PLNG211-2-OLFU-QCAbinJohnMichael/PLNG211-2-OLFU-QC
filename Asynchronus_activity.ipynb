{
  "nbformat": 4,
  "nbformat_minor": 0,
  "metadata": {
    "colab": {
      "provenance": [],
      "authorship_tag": "ABX9TyOfclTMxLbJgm0+nicRZNg3",
      "include_colab_link": true
    },
    "kernelspec": {
      "name": "python3",
      "display_name": "Python 3"
    },
    "language_info": {
      "name": "python"
    }
  },
  "cells": [
    {
      "cell_type": "markdown",
      "metadata": {
        "id": "view-in-github",
        "colab_type": "text"
      },
      "source": [
        "<a href=\"https://colab.research.google.com/github/PLNG211-2-OLFU-QCAbinJohnMichael/PLNG211-2-OLFU-QC/blob/main/Asynchronus_activity.ipynb\" target=\"_parent\"><img src=\"https://colab.research.google.com/assets/colab-badge.svg\" alt=\"Open In Colab\"/></a>"
      ]
    },
    {
      "cell_type": "code",
      "execution_count": 35,
      "metadata": {
        "colab": {
          "base_uri": "https://localhost:8080/"
        },
        "id": "hTQ3sNbLQeP4",
        "outputId": "93ec167c-a2a1-4e5f-ec72-15b67b2bb232"
      },
      "outputs": [
        {
          "output_type": "stream",
          "name": "stdout",
          "text": [
            "9000\n",
            "2700.0\n",
            "6300.0\n"
          ]
        }
      ],
      "source": [
        "a= 600\n",
        "a *=15\n",
        "b = (0.30*a)\n",
        "c= (a-b)\n",
        "print (a)\n",
        "print(b)\n",
        "print(c)\n"
      ]
    }
  ]
}