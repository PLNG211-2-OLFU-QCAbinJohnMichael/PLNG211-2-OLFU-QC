{
  "nbformat": 4,
  "nbformat_minor": 0,
  "metadata": {
    "colab": {
      "provenance": [],
      "collapsed_sections": [],
      "authorship_tag": "ABX9TyNFO+yjL1jIwwosS6UFc1eG",
      "include_colab_link": true
    },
    "kernelspec": {
      "name": "python3",
      "display_name": "Python 3"
    },
    "language_info": {
      "name": "python"
    }
  },
  "cells": [
    {
      "cell_type": "markdown",
      "metadata": {
        "id": "view-in-github",
        "colab_type": "text"
      },
      "source": [
        "<a href=\"https://colab.research.google.com/github/PLNG211-2-OLFU-QCAbinJohnMichael/PLNG211-2-OLFU-QC/blob/main/Operations_and_Expressions.ipynb\" target=\"_parent\"><img src=\"https://colab.research.google.com/assets/colab-badge.svg\" alt=\"Open In Colab\"/></a>"
      ]
    },
    {
      "cell_type": "markdown",
      "source": [],
      "metadata": {
        "id": "Rf0qqWGYAR2n"
      }
    },
    {
      "cell_type": "code",
      "source": [
        "c = 6\n",
        "d = 7\n",
        "\n",
        "print (c==d)\n",
        "print (c!=d)\n"
      ],
      "metadata": {
        "colab": {
          "base_uri": "https://localhost:8080/"
        },
        "id": "DKRSl-wrAUQB",
        "outputId": "4ea2193b-bd91-46e3-a7ee-a75329f07cf0"
      },
      "execution_count": null,
      "outputs": [
        {
          "output_type": "stream",
          "name": "stdout",
          "text": [
            "False\n",
            "True\n"
          ]
        }
      ]
    },
    {
      "cell_type": "markdown",
      "source": [
        "Phyton Operators"
      ],
      "metadata": {
        "id": "EbNmsvaQA71m"
      }
    },
    {
      "cell_type": "code",
      "source": [
        "print (5+15)\n",
        "print (15-5)\n",
        "print (15*3)\n",
        "print (5**5)\n",
        "print (9/3) #division\n",
        "print (9//4) #floor division\n",
        "print (9%4) #remainder"
      ],
      "metadata": {
        "colab": {
          "base_uri": "https://localhost:8080/"
        },
        "id": "ZEYjlpGgA9if",
        "outputId": "7dd67001-0299-4969-8755-7a2f44cbe1b0"
      },
      "execution_count": null,
      "outputs": [
        {
          "output_type": "stream",
          "name": "stdout",
          "text": [
            "20\n",
            "10\n",
            "45\n",
            "3125\n",
            "3.0\n",
            "2\n",
            "1\n"
          ]
        }
      ]
    },
    {
      "cell_type": "markdown",
      "source": [
        "Phyton Bitwise Operators"
      ],
      "metadata": {
        "id": "1Dd-k24aBUWX"
      }
    },
    {
      "cell_type": "code",
      "source": [
        "e = 60\n",
        "f = 13    \n",
        "#* and, #| or, #~/\n",
        "print (e & f)\n",
        "print (e ^ f)\n",
        "print (e >> 1)\n",
        "print (e << 1)\n",
        "print (~f) #00001101, 2s complement"
      ],
      "metadata": {
        "colab": {
          "base_uri": "https://localhost:8080/"
        },
        "id": "V4AIBd_KCdg1",
        "outputId": "cca6deac-0921-491e-8ec0-7b870f70c8a9"
      },
      "execution_count": 12,
      "outputs": [
        {
          "output_type": "stream",
          "name": "stdout",
          "text": [
            "12\n",
            "49\n",
            "30\n",
            "120\n",
            "-14\n"
          ]
        }
      ]
    },
    {
      "cell_type": "markdown",
      "source": [
        "Phyton Assignment Operators"
      ],
      "metadata": {
        "id": "ggbPep8kEoZN"
      }
    },
    {
      "cell_type": "code",
      "source": [
        "x= 18\n",
        "y = 7\n",
        "x+=3 #same as x= x+3, x  = 18+ 3 =21\n",
        "print (x)\n"
      ],
      "metadata": {
        "colab": {
          "base_uri": "https://localhost:8080/"
        },
        "id": "m0KD7C67FwmG",
        "outputId": "76593c60-267a-4b56-ef38-0adb3c9b2b98"
      },
      "execution_count": 14,
      "outputs": [
        {
          "output_type": "stream",
          "name": "stdout",
          "text": [
            "21\n"
          ]
        }
      ]
    },
    {
      "cell_type": "markdown",
      "source": [
        "Logical Operators"
      ],
      "metadata": {
        "id": "zeUPiTt6Gtj7"
      }
    },
    {
      "cell_type": "code",
      "source": [
        "print (x>y and x==x)\n",
        "print (y!=y or x==y)\n",
        "print (not(y!=y or x==y))"
      ],
      "metadata": {
        "colab": {
          "base_uri": "https://localhost:8080/"
        },
        "id": "p6gB-yn6Guzc",
        "outputId": "384c76b5-b0be-456f-d9c1-6fb693a4eba3"
      },
      "execution_count": 19,
      "outputs": [
        {
          "output_type": "stream",
          "name": "stdout",
          "text": [
            "True\n",
            "False\n",
            "True\n"
          ]
        }
      ]
    },
    {
      "cell_type": "markdown",
      "source": [
        "Identity Operators"
      ],
      "metadata": {
        "id": "QvbK_ZrlH5uq"
      }
    },
    {
      "cell_type": "code",
      "source": [
        "#is, is not\n",
        "print (x is y)\n",
        "print (x is x)\n",
        "print (x is not y)"
      ],
      "metadata": {
        "colab": {
          "base_uri": "https://localhost:8080/"
        },
        "id": "mkZ0m8i3H9e5",
        "outputId": "8f5bb14b-f470-4c7f-c2f7-92fe1e0689f6"
      },
      "execution_count": 21,
      "outputs": [
        {
          "output_type": "stream",
          "name": "stdout",
          "text": [
            "False\n",
            "True\n",
            "True\n"
          ]
        }
      ]
    }
  ]
}