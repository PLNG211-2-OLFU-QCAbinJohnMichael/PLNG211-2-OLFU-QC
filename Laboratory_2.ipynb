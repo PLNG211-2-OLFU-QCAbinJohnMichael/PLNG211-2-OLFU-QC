{
  "nbformat": 4,
  "nbformat_minor": 0,
  "metadata": {
    "colab": {
      "provenance": [],
      "authorship_tag": "ABX9TyPqzFmhoa1HwYt4kv4BAr/H",
      "include_colab_link": true
    },
    "kernelspec": {
      "name": "python3",
      "display_name": "Python 3"
    },
    "language_info": {
      "name": "python"
    }
  },
  "cells": [
    {
      "cell_type": "markdown",
      "metadata": {
        "id": "view-in-github",
        "colab_type": "text"
      },
      "source": [
        "<a href=\"https://colab.research.google.com/github/PLNG211-2-OLFU-QCAbinJohnMichael/PLNG211-2-OLFU-QC/blob/main/Laboratory_2.ipynb\" target=\"_parent\"><img src=\"https://colab.research.google.com/assets/colab-badge.svg\" alt=\"Open In Colab\"/></a>"
      ]
    },
    {
      "cell_type": "code",
      "execution_count": 19,
      "metadata": {
        "colab": {
          "base_uri": "https://localhost:8080/"
        },
        "id": "JRHBvVArmB_X",
        "outputId": "6ca346c3-8d0b-4a7b-d3cc-89130e37e0f7"
      },
      "outputs": [
        {
          "output_type": "stream",
          "name": "stdout",
          "text": [
            "Enter Your Name: abdul\n",
            "Enter Your Student#:12345\n",
            "Enter Your Age: 24\n",
            "Enter Your School: olfu\n",
            "Enter Your Course: bscs\n",
            "*************************************************************\n",
            "Name:  abdul\n",
            "Student#:  12345\n",
            "Age:  24\n",
            "School olfu\n",
            "Course:  bscs\n",
            "*************************************************************\n",
            "Enter Your Name: burikat\n",
            "Enter Your Student#:54321\n",
            "Enter Your Age: 24\n",
            "Enter Your School: olfu\n",
            "Enter Your Course: bsit\n",
            "*************************************************************\n",
            "Name:  burikat\n",
            "Student#:  54321\n",
            "Age:  24\n",
            "School olfu\n",
            "Course:  bsit\n",
            "*************************************************************\n",
            "My name is  Michael Abin\n",
            "My student# is  12345\n",
            "I am  24  years old\n",
            "I am studying at  olfu\n",
            "I amd majoring in bscs\n",
            "****************************************************************\n"
          ]
        }
      ],
      "source": [
        "# Problem 2.\n",
        "class Students:\n",
        "\n",
        " def __init__(self,name,studentno,age,school,course):\n",
        "  self.name = name\n",
        "  self.studentno = studentno\n",
        "  self.age = age\n",
        "  self.school = school\n",
        "  self.course = course\n",
        " def myfunction(self):\n",
        "  print(\"*************************************************************\")\n",
        "  print(\"Name: \", self.name)\n",
        "  print(\"Student#: \", self.studentno)\n",
        "  print(\"Age: \", self.age)\n",
        "  print(\"School\", self.school)\n",
        "  print(\"Course: \", self.course)\n",
        "  print(\"*************************************************************\")\n",
        "\n",
        "\n",
        "class Section2(Students):\n",
        "  pass\n",
        "\n",
        "name = input(\"Enter Your Name: \")\n",
        "studentno = input(\"Enter Your Student#:\")\n",
        "age = input(\"Enter Your Age: \")\n",
        "school = input(\"Enter Your School: \")\n",
        "course = input(\"Enter Your Course: \")\n",
        "\n",
        "p1 = Students(name,studentno,age,school,course)\n",
        "p1.myfunction()\n",
        "\n",
        "name2 = input(\"Enter Your Name: \")\n",
        "studentno2 = input(\"Enter Your Student#:\")\n",
        "age2 = input(\"Enter Your Age: \")\n",
        "school2 = input(\"Enter Your School: \")\n",
        "course2 = input(\"Enter Your Course: \")\n",
        "\n",
        "p2 = Section2(name2,studentno2,age2,school2,course2)\n",
        "p2.myfunction()\n",
        "\n",
        "\n",
        "myself = Students(\"Michael Abin\",12345,24,\"olfu\",\"bscs\")\n",
        "print(\"My name is \", myself.name)\n",
        "print(\"My student# is \", myself.studentno)\n",
        "print(\"I am \", myself.age, \" years old\")\n",
        "print(\"I am studying at \" , myself.school)\n",
        "print(\"I amd majoring in\", myself.course)\n",
        "print(\"****************************************************************\")"
      ]
    }
  ]
}